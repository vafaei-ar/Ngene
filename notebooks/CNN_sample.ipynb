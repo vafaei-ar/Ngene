{
 "cells": [
  {
   "cell_type": "code",
   "execution_count": 1,
   "metadata": {},
   "outputs": [
    {
     "name": "stderr",
     "output_type": "stream",
     "text": [
      "/home/gf/packages/anaconda3/lib/python3.6/site-packages/h5py/__init__.py:36: FutureWarning: Conversion of the second argument of issubdtype from `float` to `np.floating` is deprecated. In future, it will be treated as `np.float64 == np.dtype(float).type`.\n",
      "  from ._conv import register_converters as _register_converters\n"
     ]
    },
    {
     "data": {
      "image/png": "[encoded data removed]",
      "text/plain": [
       "<Figure size 1080x504 with 2 Axes>"
      ]
     },
     "metadata": {},
     "output_type": "display_data"
    }
   ],
   "source": [
    "%matplotlib inline\n",
    "\n",
    "from shutil import rmtree\n",
    "import numpy as np\n",
    "import pylab as plt\n",
    "import ngene as ng\n",
    "\n",
    "nx,ny,n_channel = 10,15,1\n",
    "\n",
    "def data(n):\n",
    "    x = []\n",
    "    for i in range(n):\n",
    "        x.append(np.random.normal(0,1,(nx,ny)))\n",
    "    return np.expand_dims(np.array(x),axis=-1)\n",
    "\n",
    "def truth(x,noise=0):\n",
    "    shp = x.shape\n",
    "    y = np.zeros(shp)\n",
    "    n = shp[0]\n",
    "    for i in range(n):\n",
    "        y[i] = x[i]+0\n",
    "        y[i][y[i]<2]=0\n",
    "        \n",
    "    if noise!=0:\n",
    "        y= y+noise*x\n",
    "    return y\n",
    "\n",
    "def data_provider(n):\n",
    "    x = data(n)\n",
    "    y = truth(x)\n",
    "    return x,y\n",
    "\n",
    "fig,(ax1,ax2) = plt.subplots(ncols=2,nrows=1,figsize=(15,7))\n",
    "\n",
    "x = data(3)\n",
    "y = truth(x,0.1)\n",
    "\n",
    "ax1.imshow(x[0,:,:,0])\n",
    "ax1.set_title('Input')\n",
    "ax2.imshow(y[0,:,:,0])\n",
    "ax2.set_title('Output');"
   ]
  },
  {
   "cell_type": "code",
   "execution_count": 14,
   "metadata": {},
   "outputs": [
    {
     "name": "stdout",
     "output_type": "stream",
     "text": [
      "# of variables: 4275\n"
     ]
    },
    {
     "name": "stderr",
     "output_type": "stream",
     "text": [
      "/home/gf/packages/anaconda3/lib/python3.6/site-packages/tensorflow/python/client/session.py:1714: UserWarning: An interactive session is already active. This can cause out-of-memory errors in some cases. You must explicitly call `InteractiveSession.close()` to release resources held by the other session(s).\n",
      "  warnings.warn('An interactive session is already active. This can '\n"
     ]
    }
   ],
   "source": [
    "import tensorflow as tf\n",
    "def architecture(x_in):\n",
    "    \n",
    "#     x = tf.layers.conv2d(x_in,filters=16,kernel_size=5,strides=(1, 1),padding='same',\n",
    "#             activation=tf.nn.relu)\n",
    "#     x = tf.layers.conv2d(x,filters=16,kernel_size=5,strides=(1, 1),padding='same',\n",
    "#             activation=tf.nn.relu)\n",
    "\n",
    "#     x_out = tf.layers.conv2d(x,filters=1,kernel_size=5,strides=(1, 1),padding='same',\n",
    "#             activation=tf.nn.relu)\n",
    "\n",
    "    initzer = tf.contrib.layers.xavier_initializer()\n",
    "    # initzer = tf.contrib.layers.variance_scaling_initializer()\n",
    "    x = tf.layers.conv2d(x_in,filters=12,\n",
    "                        kernel_size=5,\n",
    "                        padding='SAME',\n",
    "                        kernel_initializer=initzer,\n",
    "                        kernel_regularizer=tf.contrib.layers.l2_regularizer(scale=0.05),\n",
    "                        bias_initializer=tf.constant_initializer(0.1),\n",
    "                        name='conv_1')\n",
    "    x = tf.layers.batch_normalization(x,name='norm_1')\n",
    "    x = tf.nn.relu(x,name='act_1')\n",
    "\n",
    "    x = tf.layers.conv2d(x,filters=12,\n",
    "                        kernel_size=5,\n",
    "                        padding='SAME',\n",
    "                        kernel_initializer=initzer,\n",
    "                        kernel_regularizer=tf.contrib.layers.l2_regularizer(scale=0.05),\n",
    "                        bias_initializer=tf.constant_initializer(0.1),\n",
    "                        name='conv_2')\n",
    "    x = tf.layers.batch_normalization(x,name='norm_2')\n",
    "    x = tf.nn.relu(x,name='act_2')\n",
    "\n",
    "    x = tf.layers.conv2d(x,filters=1,\n",
    "                        kernel_size=5,\n",
    "                        padding='SAME',\n",
    "                        kernel_initializer=initzer,\n",
    "                        kernel_regularizer=tf.contrib.layers.l2_regularizer(scale=0.05),\n",
    "                        bias_initializer=tf.constant_initializer(0.1),\n",
    "                        name='conv_3')\n",
    "    x = tf.layers.batch_normalization(x,name='norm_3')\n",
    "    x_out = tf.nn.relu(x,name='act_3')\n",
    "    return x_out\n",
    "\n",
    "model = ng.Model(nx=nx,ny=ny,n_channel=1,n_class=1,\n",
    "         restore=False,model_add='./model',arch=architecture)\n",
    "\n",
    "print('# of variables:',model.n_variables)"
   ]
  },
  {
   "cell_type": "code",
   "execution_count": 15,
   "metadata": {},
   "outputs": [
    {
     "name": "stdout",
     "output_type": "stream",
     "text": [
      "Warning! Dead model! Reinitiating...\n",
      "Epoch:0, cost= 827.658869\n",
      "Epoch:1, cost= 251.356548\n",
      "Epoch:2, cost= 200.216583\n",
      "Epoch:3, cost= 178.153697\n",
      "Epoch:4, cost= 164.137832\n",
      "Epoch:5, cost= 156.466727\n",
      "Epoch:6, cost= 146.101960\n",
      "Epoch:7, cost= 138.229239\n",
      "Epoch:8, cost= 132.083318\n",
      "Epoch:9, cost= 129.645601\n"
     ]
    }
   ],
   "source": [
    "model.train(data_provider=data_provider,training_epochs = 10,iterations=200 ,n_s = 100,\n",
    "                    learning_rate = 0.01, time_limit=None,\n",
    "                    metric=None, verbose=1,death_preliminary_check = 30,\n",
    "                    death_frequency_check = 1000)"
   ]
  },
  {
   "cell_type": "code",
   "execution_count": 16,
   "metadata": {},
   "outputs": [
    {
     "data": {
      "text/plain": [
       "Text(0.5,1,'Prediction')"
      ]
     },
     "execution_count": 16,
     "metadata": {},
     "output_type": "execute_result"
    },
    {
     "data": {
      "image/png": "[encoded data removed]",
      "text/plain": [
       "<Figure size 1080x504 with 3 Axes>"
      ]
     },
     "metadata": {},
     "output_type": "display_data"
    }
   ],
   "source": [
    "fig,(ax1,ax2,ax3) = plt.subplots(ncols=3,nrows=1,figsize=(15,7))\n",
    "\n",
    "x = data(1)\n",
    "y = truth(x,0.0)\n",
    "x_pred = model.conv(x)\n",
    "\n",
    "ax1.imshow(x[0,:,:,0])\n",
    "ax1.set_title('Input')\n",
    "ax2.imshow(y[0,:,:,0])\n",
    "ax2.set_title('Output')\n",
    "ax3.imshow(x_pred[:,:,0])\n",
    "ax3.set_title('Prediction')"
   ]
  },
  {
   "cell_type": "code",
   "execution_count": 17,
   "metadata": {},
   "outputs": [
    {
     "data": {
      "text/plain": [
       "[<matplotlib.lines.Line2D at 0x7f0011f86438>]"
      ]
     },
     "execution_count": 17,
     "metadata": {},
     "output_type": "execute_result"
    },
    {
     "data": {
      "image/png": "[encoded data removed]",
      "text/plain": [
       "<Figure size 432x288 with 1 Axes>"
      ]
     },
     "metadata": {},
     "output_type": "display_data"
    }
   ],
   "source": [
    "time_steps = np.array([model.sw.array2sec(i) for i in model.training_time])[1:]\n",
    "losses = model.loss[1:]\n",
    "plt.plot(time_steps,losses)"
   ]
  },
  {
   "cell_type": "code",
   "execution_count": null,
   "metadata": {},
   "outputs": [],
   "source": []
  },
  {
   "cell_type": "code",
   "execution_count": null,
   "metadata": {},
   "outputs": [],
   "source": []
  },
  {
   "cell_type": "code",
   "execution_count": null,
   "metadata": {},
   "outputs": [],
   "source": []
  },
  {
   "cell_type": "code",
   "execution_count": null,
   "metadata": {},
   "outputs": [],
   "source": []
  },
  {
   "cell_type": "code",
   "execution_count": null,
   "metadata": {},
   "outputs": [],
   "source": []
  },
  {
   "cell_type": "code",
   "execution_count": 269,
   "metadata": {},
   "outputs": [],
   "source": [
    "try:\n",
    "    tf.reset_default_graph()\n",
    "    rmtree('./logs')\n",
    "except:\n",
    "    pass\n",
    "try:\n",
    "    sess.close()\n",
    "except:\n",
    "    pass\n",
    "\n",
    "\n",
    "\n",
    "n_batch = None\n",
    "x_in = tf.placeholder(tf.float32,[n_batch,nx,ny,n_channel])\n",
    "y_true = tf.placeholder(tf.float32,[n_batch,nx,ny,1])\n",
    "learning_rate = tf.placeholder(tf.float32)\n",
    "\n",
    "# check_death = tf.placeholder(tf.bool)\n",
    "\n",
    "# x = tf.layers.conv2d(x_in,filters=16,kernel_size=5,strides=(1, 1),padding='same',\n",
    "#         activation=tf.nn.relu)\n",
    "# x = tf.layers.conv2d(x,filters=16,kernel_size=5,strides=(1, 1),padding='same',\n",
    "#         activation=tf.nn.relu)\n",
    "\n",
    "# x_out = tf.layers.conv2d(x,filters=1,kernel_size=5,strides=(1, 1),padding='same',\n",
    "#         activation=tf.nn.relu)\n",
    "\n",
    "initzer = tf.contrib.layers.xavier_initializer()\n",
    "# initzer = tf.contrib.layers.variance_scaling_initializer()\n",
    "x = tf.layers.conv2d(x_in,filters=12,\n",
    "                    kernel_size=5,\n",
    "                    padding='SAME',\n",
    "                    kernel_initializer=initzer,\n",
    "                    kernel_regularizer=tf.contrib.layers.l2_regularizer(scale=0.05),\n",
    "                    bias_initializer=tf.constant_initializer(0.1),\n",
    "                    name='conv_1')\n",
    "x = tf.layers.batch_normalization(x,name='norm_1')\n",
    "x = tf.nn.relu(x,name='act_1')\n",
    "\n",
    "x = tf.layers.conv2d(x,filters=12,\n",
    "                    kernel_size=5,\n",
    "                    padding='SAME',\n",
    "                    kernel_initializer=initzer,\n",
    "                    kernel_regularizer=tf.contrib.layers.l2_regularizer(scale=0.05),\n",
    "                    bias_initializer=tf.constant_initializer(0.1),\n",
    "                    name='conv_2')\n",
    "x = tf.layers.batch_normalization(x,name='norm_2')\n",
    "x = tf.nn.relu(x,name='act_2')\n",
    "\n",
    "x = tf.layers.conv2d(x,filters=1,\n",
    "                    kernel_size=5,\n",
    "                    padding='SAME',\n",
    "                    kernel_initializer=initzer,\n",
    "                    kernel_regularizer=tf.contrib.layers.l2_regularizer(scale=0.05),\n",
    "                    bias_initializer=tf.constant_initializer(0.1),\n",
    "                    name='conv_3')\n",
    "x = tf.layers.batch_normalization(x,name='norm_3')\n",
    "x_out = tf.nn.relu(x,name='act_3')\n",
    "r_zeros = tf.nn.zero_fraction(x_out)\n",
    "\n",
    "cost = tf.reduce_sum(tf.pow(y_true - x_out, 2))\n",
    "# cost = tf.losses.huber_loss(y_true,x_out)\n",
    "# cost = tf.losses.log_loss(y_true,x_out)\n",
    "# cost = tf.losses.mean_pairwise_squared_error(y_true,x_out)\n",
    "\n",
    "optimizer = tf.train.AdamOptimizer(learning_rate).minimize(cost)\n",
    "\n",
    "tf.summary.image(\"in_out\", tf.concat([x_in[:1,:,:,:1],x_out[:1,:,:,:1]],axis=0), max_outputs=2),\n",
    "tf.summary.scalar('cost', cost)\n",
    "merge = tf.summary.merge_all()\n",
    "\n",
    "sess = tf.InteractiveSession()\n",
    "init = tf.global_variables_initializer()\n",
    "sess.run(init)\n",
    "\n",
    "writer = tf.summary.FileWriter( './logs/train', sess.graph)"
   ]
  },
  {
   "cell_type": "code",
   "execution_count": 271,
   "metadata": {},
   "outputs": [
    {
     "name": "stdout",
     "output_type": "stream",
     "text": [
      "2138.0422\n",
      "2073.678\n",
      "486.40997\n",
      "343.7915\n",
      "291.4826\n",
      "194.78265\n",
      "120.8762\n",
      "96.143036\n",
      "105.58545\n",
      "71.15138\n",
      "87.25899\n",
      "87.294876\n",
      "81.6729\n",
      "104.21877\n",
      "54.094948\n",
      "66.10851\n",
      "65.79318\n",
      "50.931816\n",
      "51.286366\n",
      "76.134186\n"
     ]
    }
   ],
   "source": [
    "counter = 0\n",
    "learning_r = 0.01\n",
    "\n",
    "logg = False\n",
    "death = True\n",
    "death_preliminary_check = 10\n",
    "death_frequency_check = 1000\n",
    "not_dead = 0\n",
    "\n",
    "for i in range(1000):\n",
    "    x = data(100)\n",
    "    y = truth(x,0.0)\n",
    "    \n",
    "    counter += 1\n",
    "    if (not logg) & (not death): \n",
    "        summary, _, c = sess.run([merge,optimizer, cost], feed_dict=\n",
    "                     {x_in: x, y_true: y, learning_rate: learning_r})\n",
    "        writer.add_summary(summary, counter)\n",
    "    elif logg:\n",
    "        _, c = sess.run([optimizer, cost], feed_dict=\n",
    "                         {x_in: x, y_true: y, learning_rate: learning_r}) \n",
    "    elif death or (counter%death_frequency_check==0 and death_frequency_check):     \n",
    "        rr,_, c = sess.run([r_zeros,optimizer, cost], feed_dict=\n",
    "                         {x_in: x, y_true: y, learning_rate: learning_r}) \n",
    "        if rr==1.:\n",
    "            sess.run(init)\n",
    "            not_dead = 0\n",
    "            death = True\n",
    "        else:\n",
    "            not_dead += 1\n",
    "        if not_dead>=death_preliminary_check:\n",
    "            death = False\n",
    "#         print(rr)\n",
    "    \n",
    "    if i%50==0:\n",
    "        print(c)"
   ]
  },
  {
   "cell_type": "code",
   "execution_count": null,
   "metadata": {},
   "outputs": [],
   "source": []
  },
  {
   "cell_type": "code",
   "execution_count": 27,
   "metadata": {},
   "outputs": [
    {
     "name": "stdout",
     "output_type": "stream",
     "text": [
      "{'images': ['in_out/image/0', 'in_out/image/1'], 'audio': [], 'histograms': [], 'scalars': ['cost'], 'distributions': [], 'tensors': [], 'graph': True, 'meta_graph': True, 'run_metadata': []}\n"
     ]
    },
    {
     "data": {
      "image/png": "[encoded data removed]",
      "text/plain": [
       "<Figure size 432x288 with 1 Axes>"
      ]
     },
     "metadata": {},
     "output_type": "display_data"
    }
   ],
   "source": [
    "from tensorboard.backend.event_processing.event_accumulator import EventAccumulator\n",
    "from glob import glob\n",
    "\n",
    "summary_file = glob('./logs/train/events.out.tfevents.*')[0]\n",
    "event_acc = EventAccumulator(summary_file)\n",
    "event_acc.Reload()\n",
    "# Show all tags in the log file\n",
    "print(event_acc.Tags())\n",
    "\n",
    "w_times, step_nums, vals = zip(*event_acc.Scalars('cost'))\n",
    "plt.plot(step_nums,vals)\n",
    "plt.yscale('log')"
   ]
  },
  {
   "cell_type": "code",
   "execution_count": 16,
   "metadata": {},
   "outputs": [],
   "source": [
    "# event_acc.Images('In/image/0')"
   ]
  },
  {
   "cell_type": "code",
   "execution_count": 17,
   "metadata": {},
   "outputs": [
    {
     "data": {
      "text/plain": [
       "(548, 783, 817, 1000)"
      ]
     },
     "execution_count": 17,
     "metadata": {},
     "output_type": "execute_result"
    }
   ],
   "source": [
    "w_times,step_nums,imgs,width, height = zip(*event_acc.Images('in_out/image/0'))\n",
    "step_nums"
   ]
  },
  {
   "cell_type": "code",
   "execution_count": 104,
   "metadata": {},
   "outputs": [
    {
     "data": {
      "text/plain": [
       "<matplotlib.image.AxesImage at 0x7fb2287d4128>"
      ]
     },
     "execution_count": 104,
     "metadata": {},
     "output_type": "execute_result"
    },
    {
     "data": {
      "image/png": "[encoded data removed]",
      "text/plain": [
       "<Figure size 432x288 with 1 Axes>"
      ]
     },
     "metadata": {},
     "output_type": "display_data"
    }
   ],
   "source": [
    "image_str = tf.placeholder(tf.string)\n",
    "im_tf = tf.image.decode_image(image_str)\n",
    "\n",
    "img = sess.run(im_tf,{image_str: imgs[1]})\n",
    "plt.imshow(img[:,:,0])"
   ]
  },
  {
   "cell_type": "code",
   "execution_count": null,
   "metadata": {},
   "outputs": [],
   "source": []
  },
  {
   "cell_type": "code",
   "execution_count": null,
   "metadata": {},
   "outputs": [],
   "source": []
  }
 ],
 "metadata": {
  "kernelspec": {
   "display_name": "Python 3",
   "language": "python",
   "name": "python3"
  },
  "language_info": {
   "codemirror_mode": {
    "name": "ipython",
    "version": 3
   },
   "file_extension": ".py",
   "mimetype": "text/x-python",
   "name": "python",
   "nbconvert_exporter": "python",
   "pygments_lexer": "ipython3",
   "version": "3.6.5"
  }
 },
 "nbformat": 4,
 "nbformat_minor": 2
}
