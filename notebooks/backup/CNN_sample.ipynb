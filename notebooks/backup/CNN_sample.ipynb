{
 "cells": [
  {
   "cell_type": "code",
   "execution_count": 1,
   "metadata": {},
   "outputs": [],
   "source": [
    "%matplotlib inline\n",
    "\n",
    "import numpy as np\n",
    "import pylab as plt\n",
    "import tensorflow as tf\n",
    "\n",
    "def data(n):\n",
    "    x = []\n",
    "    for i in range(n):\n",
    "        x.append(np.random.normal(0,1,(10,15)))\n",
    "    return np.expand_dims(np.array(x),axis=-1)\n",
    "\n",
    "def truth(x):\n",
    "    y = np.zeros(x.shape)\n",
    "    n = x.shape[0]\n",
    "    for i in range(n):\n",
    "        y[i] = x[i]/x[i].max()\n",
    "        y[i][y[i]<0]=0\n",
    "    return y"
   ]
  },
  {
   "cell_type": "code",
   "execution_count": 2,
   "metadata": {},
   "outputs": [
    {
     "name": "stdout",
     "output_type": "stream",
     "text": [
      "(3, 10, 15, 1)\n"
     ]
    },
    {
     "data": {
      "text/plain": [
       "Text(0.5,1,'Output')"
      ]
     },
     "execution_count": 2,
     "metadata": {},
     "output_type": "execute_result"
    },
    {
     "data": {
      "image/png": "[encoded data removed]",
      "text/plain": [
       "<matplotlib.figure.Figure at 0x7f1aaa165dd8>"
      ]
     },
     "metadata": {},
     "output_type": "display_data"
    }
   ],
   "source": [
    "fig,(ax1,ax2) = plt.subplots(ncols=2,nrows=1,figsize=(15,7))\n",
    "\n",
    "x = data(3)\n",
    "print(x.shape)\n",
    "y = truth(x)\n",
    "    \n",
    "ax1.imshow(x[0,:,:,0])\n",
    "ax1.set_title('Input')\n",
    "ax2.imshow(y[0,:,:,0])\n",
    "ax2.set_title('Output')"
   ]
  },
  {
   "cell_type": "code",
   "execution_count": 4,
   "metadata": {},
   "outputs": [],
   "source": [
    "nx,ny,n_channel = 10,15,1\n",
    "\n",
    "x_in = tf.placeholder(tf.float32,[None,nx,ny,n_channel])\n",
    "y_true = tf.placeholder(tf.float32,[None,nx,ny,1])\n",
    "learning_rate = tf.placeholder(tf.float32)\n",
    "drop_out = tf.placeholder(tf.float32)\n",
    "\n",
    "x = tf.layers.conv2d(x_in,filters=16,kernel_size=5,strides=(1, 1),padding='same',\n",
    "        activation=tf.nn.relu)\n",
    "x = tf.layers.conv2d(x,filters=16,kernel_size=5,strides=(1, 1),padding='same',\n",
    "        activation=tf.nn.relu)\n",
    "\n",
    "x = tf.layers.dropout(x, drop_out)\n",
    "x_out = tf.layers.conv2d(x,filters=1,kernel_size=5,strides=(1, 1),padding='same',\n",
    "        activation=tf.nn.relu)\n",
    "\n",
    "cost = tf.reduce_sum(tf.pow(y_true - x_out, 2))\n",
    "optimizer = tf.train.AdamOptimizer(learning_rate).minimize(cost)\n",
    "\n",
    "sess = tf.InteractiveSession()\n",
    "init = tf.global_variables_initializer()\n",
    "sess.run(init)"
   ]
  },
  {
   "cell_type": "code",
   "execution_count": 7,
   "metadata": {},
   "outputs": [
    {
     "name": "stdout",
     "output_type": "stream",
     "text": [
      "44.5561\n",
      "40.1778\n",
      "39.4344\n",
      "34.8651\n",
      "37.2216\n",
      "35.3479\n",
      "40.2249\n",
      "27.6727\n",
      "33.7001\n",
      "30.9735\n"
     ]
    }
   ],
   "source": [
    "for i in range(100):\n",
    "    x = data(100)\n",
    "    y = truth(x)\n",
    "    _, c = sess.run([optimizer, cost], feed_dict=\n",
    "                     {x_in: x, y_true: y, drop_out: 0.7, learning_rate: 0.01})\n",
    "    if i%10==0:\n",
    "        print(c)"
   ]
  },
  {
   "cell_type": "code",
   "execution_count": 8,
   "metadata": {},
   "outputs": [
    {
     "data": {
      "text/plain": [
       "Text(0.5,1,'Prediction')"
      ]
     },
     "execution_count": 8,
     "metadata": {},
     "output_type": "execute_result"
    },
    {
     "data": {
      "image/png": "[encoded data removed]",
      "text/plain": [
       "<matplotlib.figure.Figure at 0x7f29f079a400>"
      ]
     },
     "metadata": {},
     "output_type": "display_data"
    }
   ],
   "source": [
    "fig,(ax1,ax2,ax3) = plt.subplots(ncols=3,nrows=1,figsize=(15,7))\n",
    "\n",
    "x = data(1)\n",
    "y = truth(x)\n",
    "\n",
    "x_pred = sess.run(x_out, feed_dict={x_in:x})\n",
    "    \n",
    "ax1.imshow(x[0,:,:,0])\n",
    "ax1.set_title('Input')\n",
    "ax2.imshow(y[0,:,:,0])\n",
    "ax2.set_title('Output')\n",
    "ax3.imshow(x_pred[0,:,:,0])\n",
    "ax3.set_title('Prediction')"
   ]
  },
  {
   "cell_type": "code",
   "execution_count": 5,
   "metadata": {},
   "outputs": [],
   "source": []
  },
  {
   "cell_type": "code",
   "execution_count": null,
   "metadata": {},
   "outputs": [],
   "source": []
  }
 ],
 "metadata": {
  "kernelspec": {
   "display_name": "Python [conda env:anaconda3]",
   "language": "python",
   "name": "conda-env-anaconda3-py"
  },
  "language_info": {
   "codemirror_mode": {
    "name": "ipython",
    "version": 3
   },
   "file_extension": ".py",
   "mimetype": "text/x-python",
   "name": "python",
   "nbconvert_exporter": "python",
   "pygments_lexer": "ipython3",
   "version": "3.6.4"
  }
 },
 "nbformat": 4,
 "nbformat_minor": 2
}
