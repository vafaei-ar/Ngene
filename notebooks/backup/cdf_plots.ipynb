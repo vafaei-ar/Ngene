{
 "cells": [
  {
   "cell_type": "code",
   "execution_count": 1,
   "metadata": {},
   "outputs": [],
   "source": [
    "import numpy as np\n",
    "import matplotlib.pyplot as plt\n",
    "import glob\n",
    "import h5py\n",
    "from astropy.io import fits\n",
    "from PIL import Image\n",
    "from scipy.misc import toimage\n",
    "import pandas as pd\n",
    "import seaborn; seaborn.set()  # set plot styles\n",
    "\n",
    "import sys\n",
    "sys.path.insert(0,'../rficnn/')\n",
    "import rficnn as rfc\n",
    "\n",
    "%matplotlib inline"
   ]
  },
  {
   "cell_type": "code",
   "execution_count": 2,
   "metadata": {},
   "outputs": [
    {
     "data": {
      "text/plain": [
       "131"
      ]
     },
     "execution_count": 2,
     "metadata": {},
     "output_type": "execute_result"
    }
   ],
   "source": [
    "sim_files = glob.glob('/home/anke/HIDE_simulations/hide_sims_train/calib_1year/*.fits') + glob.glob('/home/anke/HIDE_simulations/hide_sims_train/calib_1year/*.h5')\n",
    "l = len(sim_files)\n",
    "file_set = sim_files[:20]\n",
    "l"
   ]
  },
  {
   "cell_type": "code",
   "execution_count": 7,
   "metadata": {},
   "outputs": [],
   "source": [
    "nx,ny = 276, 14400\n",
    "dp = rfc.read_part_chunck_sdfits(file_set[0],label_tag='RFI')\n",
    "dp = np.array(dp)\n",
    "data, rfi = dp"
   ]
  },
  {
   "cell_type": "code",
   "execution_count": 4,
   "metadata": {},
   "outputs": [],
   "source": [
    "def ecdf(file):\n",
    "    ext = file.split('.')[-1]\n",
    "    if ext == 'fits':\n",
    "        data, rfi = rfc.read_part_chunck_sdfits(file, label_tag='RFI')\n",
    "    elif ext == 'h5':\n",
    "        data, rfi = rfc.read_part_chunck_hdf5(filename, label_tag)\n",
    "    rfi[np.logical_and(rfi<0,data<0)] = 0\n",
    "    data[np.logical_and(rfi<0,data<0)] = 0\n",
    "    rfi[rfi<0] = 0\n",
    "    rfi[data<0] = 0\n",
    "    data[data<0] = 0\n",
    "    rfi = np.array(rfi)\n",
    "    rfi = np.reshape(rfi,-1)\n",
    "    count = len(rfi)\n",
    "    rfi_sorted = np.sort(rfi)\n",
    "    y = np.arange(1, len(rfi_sorted)+1)/count # fraction of the array\n",
    "    return rfi_sorted,y"
   ]
  },
  {
   "cell_type": "code",
   "execution_count": 8,
   "metadata": {},
   "outputs": [],
   "source": [
    "# find 2 threshold\n",
    "\n",
    "rfi[np.logical_and(rfi<0,data<0)] = 0\n",
    "data[np.logical_and(rfi<0,data<0)] = 0\n",
    "rfi[rfi<0] = 0\n",
    "rfi[data<0] = 0\n",
    "data[data<0] = 0\n",
    "rfi = np.array(rfi)\n",
    "rfi = np.reshape(rfi,-1)\n",
    "count = len(rfi) \n",
    "rfi_sorted = np.sort(rfi)\n",
    "y = np.arange(1, len(rfi_sorted)+1)/count    "
   ]
  },
  {
   "cell_type": "code",
   "execution_count": 11,
   "metadata": {},
   "outputs": [],
   "source": [
    "def find_nearest(array, value):\n",
    "    array = np.asarray(array)\n",
    "    idx = (np.abs(array - value)).argmin()\n",
    "    return idx"
   ]
  },
  {
   "cell_type": "code",
   "execution_count": 26,
   "metadata": {},
   "outputs": [
    {
     "data": {
      "text/plain": [
       "5.0953745e-13"
      ]
     },
     "execution_count": 26,
     "metadata": {},
     "output_type": "execute_result"
    }
   ],
   "source": [
    "def find_threshold(rfi_sorted, y, values):\n",
    "    thresholds = []\n",
    "    for i in values:\n",
    "        thresholds.append(rfi_sorted[find_nearest(y, i)])\n",
    "    return thresholds\n",
    "\n",
    "rfi_sorted[find_nearest(y, 0.333)]"
   ]
  },
  {
   "cell_type": "code",
   "execution_count": 27,
   "metadata": {},
   "outputs": [
    {
     "data": {
      "text/plain": [
       "[5.0953745e-13, 0.0035987594]"
      ]
     },
     "execution_count": 27,
     "metadata": {},
     "output_type": "execute_result"
    }
   ],
   "source": [
    "find_threshold(rfi_sorted, y, [0.333,0.666])"
   ]
  },
  {
   "cell_type": "code",
   "execution_count": 5,
   "metadata": {},
   "outputs": [],
   "source": [
    "def plot_rfi_ecdf(file):\n",
    "    '''Plots the Empirical Cumulative Distribution Function for all the RFI\n",
    "    Able to read off the thresholds'''\n",
    "    ext = file.split('.')[-1]\n",
    "    if ext == 'fits':\n",
    "        rfi = rfc.read_part_chunck_sdfits(file, label_tag='RFI')[1]\n",
    "    elif ext == 'h5':\n",
    "        rfi = rfc.read_part_chunck_hdf5(filename, label_tag)[1]\n",
    "    rfi[np.logical_and(rfi<0,data<0)] = 0\n",
    "    data[np.logical_and(rfi<0,data<0)] = 0\n",
    "    rfi[rfi<0] = 0\n",
    "    rfi[data<0] = 0\n",
    "    data[data<0] = 0\n",
    "    rfi = np.array(rfi)\n",
    "    rfi = np.reshape(rfi,-1)\n",
    "    count = len(rfi) # amount of data in array that have value bigger than zero\n",
    "    rfi_sorted = np.sort(rfi)\n",
    "    y = np.arange(1, len(rfi_sorted)+1)/count\n",
    "    \n",
    "    import matplotlib.pyplot as plt\n",
    "    #plt.figure(figsize=(8,6))\n",
    "    plt.title('ECDF')\n",
    "    plt.xlabel('RFI amplitude (Jy)')\n",
    "    plt.ylabel('Fraction of dataset')\n",
    "    plt.xscale('log')\n",
    "    plt.margins(0.02)\n",
    "    plt.plot(rfi_sorted, y, marker='.', linestyle=None)\n",
    "    plt.savefig('ECDF.png', format='png')\n"
   ]
  },
  {
   "cell_type": "code",
   "execution_count": 8,
   "metadata": {},
   "outputs": [
    {
     "data": {
      "image/png": "[encoded data removed]",
      "text/plain": [
       "<Figure size 432x288 with 1 Axes>"
      ]
     },
     "metadata": {},
     "output_type": "display_data"
    }
   ],
   "source": [
    "for file in file_set[0:3]:\n",
    "    plot_rfi_ecdf(file)"
   ]
  },
  {
   "cell_type": "code",
   "execution_count": 6,
   "metadata": {},
   "outputs": [],
   "source": [
    "hist, bin_edges = np.histogram(rfi_sorted[~rfi_sorted.mask],bins='auto')"
   ]
  },
  {
   "cell_type": "code",
   "execution_count": null,
   "metadata": {},
   "outputs": [],
   "source": [
    "plt.bar(bin_edges[:-1], hist, width = 1)\n",
    "#plt.xlim(min(bin_edges), max(bin_edges))"
   ]
  },
  {
   "cell_type": "markdown",
   "metadata": {},
   "source": [
    "---"
   ]
  },
  {
   "cell_type": "code",
   "execution_count": null,
   "metadata": {},
   "outputs": [],
   "source": [
    "# Alireza code\n",
    "\n",
    "bins = 100\n",
    "\n",
    "min_ratio= 1e-4\n",
    "max_ratio=np.inf\n",
    "\n",
    "rfi_ratio=abs(100*rfi/data) # percentage rfi \n",
    "rfi_accept = (min_ratio<rfi_ratio) & (rfi_ratio<max_ratio) #\n",
    "\n",
    "print(rfi_accept)\n",
    "\n",
    "'''Return a copy of the array collapsed into one dimension.'''\n",
    "r2d = rfi_ratio[rfi_accept].flatten() #np.clip(.reshape(-1),0,200) \n",
    "\n",
    "r=[1,200]\n",
    "hist, bin_edges = np.histogram(r2d,bins=bins,range=r)\n",
    "print( 'percentage of pixels in range: ',r,'is', 100.0*hist.sum()/float(len(r2d)) ) \n",
    "bin_cents = [0.5*(bin_edges[i]+bin_edges[i+1]) for i in range(bins)]\n",
    "\n",
    "plt.xlabel('Percentage RFI')\n",
    "plt.ylabel('Cumulative Sum')\n",
    "plt.plot(bin_cents,np.cumsum(hist))\n",
    "plt.xscale('log')\n",
    "plt.yscale('log')"
   ]
  },
  {
   "cell_type": "code",
   "execution_count": null,
   "metadata": {},
   "outputs": [],
   "source": [
    "def plot_rfi_cdf(file,min_ratio=1e-4, max_ratio=np.inf, bins=100, r=[1,2]):\n",
    "    '''Plots the Cumulative Distribution function of RFI percentage'''\n",
    "    h = read_chunck_sdfits_modified(file, label_tag='RFI')\n",
    "    h = np.array(h)\n",
    "    rfi = h[1]\n",
    "    data = h[0]\n",
    "    per_rfi = abs(100*rfi/data)\n",
    "    #per_rfi = np.reshape(per_rfi,(-1))\n",
    "    per_rfi_sorted = np.sort(per_rfi)\n",
    "    rfi_accept = (min_ratio<per_rfi) & (per_rfi<max_ratio)\n",
    "    r2d = rfi_ratio[rfi_accept].flatten() #np.clip(.reshape(-1),0,200) \n",
    "\n",
    "    hist, bin_edges = np.histogram(r2d,bins=bins,range=r)\n",
    "    print( 'percentage of pixels in range: ',r,'is', 100.0*hist.sum()/float(len(r2d)) ) \n",
    "    bin_cents = [0.5*(bin_edges[i]+bin_edges[i+1]) for i in range(bins)]\n",
    "\n",
    "    plt.xlabel('Percentage RFI')\n",
    "    plt.ylabel('Cumulative Sum')\n",
    "    plt.plot(bin_cents,np.cumsum(hist))\n",
    "    plt.xscale('log')\n",
    "    plt.yscale('log')\n",
    "    \n"
   ]
  },
  {
   "cell_type": "markdown",
   "metadata": {},
   "source": [
    "---"
   ]
  }
 ],
 "metadata": {
  "kernelspec": {
   "display_name": "Python [conda env:anaconda3]",
   "language": "python",
   "name": "conda-env-anaconda3-py"
  },
  "language_info": {
   "codemirror_mode": {
    "name": "ipython",
    "version": 3
   },
   "file_extension": ".py",
   "mimetype": "text/x-python",
   "name": "python",
   "nbconvert_exporter": "python",
   "pygments_lexer": "ipython3",
   "version": "3.6.4"
  }
 },
 "nbformat": 4,
 "nbformat_minor": 2
}
