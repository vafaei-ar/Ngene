{
 "cells": [
  {
   "cell_type": "code",
   "execution_count": null,
   "metadata": {},
   "outputs": [],
   "source": [
    "%matplotlib inline\n",
    "\n",
    "import PIL\n",
    "import numpy as np\n",
    "import pylab as plt\n",
    "from os import mkdir\n",
    "import tensorflow as tf\n",
    "from imageio import imread\n",
    "from io import BytesIO as sio"
   ]
  },
  {
   "cell_type": "code",
   "execution_count": 6,
   "metadata": {},
   "outputs": [],
   "source": [
    "# tf.reset_default_graph()\n",
    "\n",
    "initzer = tf.contrib.layers.xavier_initializer()\n",
    "\n",
    "# x = tf.layers.conv2d(x_in,filters=12,\n",
    "#                     kernel_size=5,\n",
    "#                     padding='SAME',\n",
    "#                     kernel_initializer=initzer,\n",
    "#                     kernel_regularizer=tf.contrib.layers.l2_regularizer(scale=0.05),\n",
    "#                     bias_initializer=tf.constant_initializer(0.1),\n",
    "#                     name='conv_1')\n",
    "# x = tf.layers.batch_normalization(x,name='norm_1')\n",
    "# x = tf.nn.relu(x,name='act_1')\n",
    "\n",
    "\n",
    "# model = ng.Model(data_provider,restore=False,model_add='./model',arch=architecture)\n",
    "# print('# of variables:',model.n_variables)\n",
    "\n",
    "def covd2(x,filters,name):\n",
    "    x = tf.layers.conv2d(x,filters=filters,\n",
    "                    kernel_size=5,\n",
    "                    padding='SAME',\n",
    "                    kernel_initializer=initzer,\n",
    "                    kernel_regularizer=tf.contrib.layers.l2_regularizer(scale=0.05),\n",
    "                    bias_initializer=tf.constant_initializer(0.1),\n",
    "                    name='conv_'+name)\n",
    "    x = tf.layers.batch_normalization(x,name='norm_'+name)\n",
    "    x = tf.nn.relu(x,name='act_'+name)\n",
    "    return x"
   ]
  },
  {
   "cell_type": "code",
   "execution_count": 29,
   "metadata": {},
   "outputs": [],
   "source": [
    "lx = 20\n",
    "def data_provider(n):\n",
    "    imgs = []\n",
    "    truth = []\n",
    "    for _ in range(n):\n",
    "        image = np.zeros((lx,lx))\n",
    "        nobject = np.random.randint(3,15)\n",
    "        pnts = np.random.randint(0,lx**2,nobject)\n",
    "        pp = []\n",
    "        for i in range(nobject):\n",
    "            image[pnts[i]%lx,pnts[i]//lx] = 1\n",
    "            pp.append([pnts[i]%lx,pnts[i]//lx])\n",
    "        imgs.append(image)\n",
    "        truth.append(len(pp))\n",
    "\n",
    "    imgs = np.array(imgs)\n",
    "    truth = np.array(truth)\n",
    "    return np.expand_dims(imgs,-1),truth"
   ]
  },
  {
   "cell_type": "code",
   "execution_count": 31,
   "metadata": {},
   "outputs": [
    {
     "name": "stdout",
     "output_type": "stream",
     "text": [
      "13\n"
     ]
    },
    {
     "data": {
      "image/png": "[encoded data removed]",
      "text/plain": [
       "<Figure size 432x288 with 1 Axes>"
      ]
     },
     "metadata": {},
     "output_type": "display_data"
    }
   ],
   "source": [
    "x,y = data_provider(1)\n",
    "plt.imshow(x[0,:,:,0],origin='lower')\n",
    "print(y[0])"
   ]
  },
  {
   "cell_type": "code",
   "execution_count": 10,
   "metadata": {},
   "outputs": [
    {
     "name": "stderr",
     "output_type": "stream",
     "text": [
      "/home/gf/packages/anaconda3/lib/python3.6/site-packages/tensorflow/python/client/session.py:1714: UserWarning: An interactive session is already active. This can cause out-of-memory errors in some cases. You must explicitly call `InteractiveSession.close()` to release resources held by the other session(s).\n",
      "  warnings.warn('An interactive session is already active. This can '\n"
     ]
    },
    {
     "name": "stdout",
     "output_type": "stream",
     "text": [
      "Tensor(\"Placeholder:0\", shape=(?, 20, 20, 1), dtype=float32)\n",
      "Tensor(\"Relu:0\", shape=(?, 8, 8, 16), dtype=float32)\n",
      "Tensor(\"Relu_1:0\", shape=(?, 2, 2, 4), dtype=float32)\n",
      "Tensor(\"flatten/Reshape:0\", shape=(?, 16), dtype=float32)\n",
      "Tensor(\"Relu_2:0\", shape=(?, 20), dtype=float32)\n",
      "Tensor(\"Relu_3:0\", shape=(?, 5), dtype=float32)\n",
      "Tensor(\"dense_2/BiasAdd:0\", shape=(?, 1), dtype=float32)\n"
     ]
    }
   ],
   "source": [
    "tf.reset_default_graph()\n",
    "\n",
    "sess = tf.InteractiveSession()\n",
    "x_in = tf.placeholder(tf.float32,(None,20,20,1))\n",
    "y_in = tf.placeholder(tf.float32,(None))\n",
    "learning_rate = tf.placeholder(tf.float32)\n",
    "\n",
    "print(x_in)\n",
    "x = tf.layers.conv2d(x_in,filters=16,kernel_size=(5,5),strides=(2,2))\n",
    "x = tf.layers.batch_normalization(x)\n",
    "x = tf.nn.relu(x)\n",
    "print(x)\n",
    "# x = tf.layers.max_pooling2d(x,pool_size=4,strides=(2,2))\n",
    "# print(x)\n",
    "x = tf.layers.conv2d(x,filters=4,kernel_size=(5,5),strides=(2,2))\n",
    "x = tf.layers.batch_normalization(x)\n",
    "x = tf.nn.relu(x)\n",
    "print(x)\n",
    "# x = tf.layers.max_pooling2d(x,pool_size=4,strides=(2,2))\n",
    "# print(x)\n",
    "x = tf.layers.flatten(x)\n",
    "print(x)\n",
    "x = tf.layers.dense(x,20)\n",
    "x = tf.nn.relu(x)\n",
    "print(x)\n",
    "x = tf.layers.dropout(x,rate=0.0,training=1)\n",
    "x = tf.layers.dense(x,5)\n",
    "x = tf.nn.relu(x)\n",
    "print(x)\n",
    "x_out = tf.layers.dense(x,1)\n",
    "print(x_out)\n",
    "\n",
    "loss = tf.reduce_mean(tf.pow(x_out-y_in,2))\n",
    "\n",
    "optimizer = tf.train.RMSPropOptimizer(learning_rate).minimize(loss)\n",
    "# in_shape = tf.shape(x_in)\n",
    "# grd = tf.range(in_shape[1], in_shape[2])\n",
    "# GX, GY = tf.meshgrid(grd,grd)\n",
    "# print(GX, GY)\n",
    "# x = covd2(x_in,12,'1')\n",
    "# print(x)\n",
    "# x = covd2(x,12,'2')\n",
    "# print(x)\n",
    "# x = covd2(x,1,'3')\n",
    "# print(x)\n",
    "\n",
    "saver = tf.train.Saver()\n",
    "\n",
    "init = tf.global_variables_initializer()\n",
    "sess.run(init)\n",
    "\n",
    "# saver.restore(sess, \"./model/model.ckpt\")\n"
   ]
  },
  {
   "cell_type": "code",
   "execution_count": 63,
   "metadata": {},
   "outputs": [
    {
     "name": "stdout",
     "output_type": "stream",
     "text": [
      "12.260472\n"
     ]
    }
   ],
   "source": [
    "for iii in range(6000):\n",
    "    imgs,gts = data_provider(200)\n",
    "    _,cc = sess.run([optimizer,loss],feed_dict={learning_rate:0.0001,x_in:imgs,y_in:gts})\n",
    "    if iii%10000==0:\n",
    "        print(cc)"
   ]
  },
  {
   "cell_type": "code",
   "execution_count": 62,
   "metadata": {},
   "outputs": [
    {
     "name": "stdout",
     "output_type": "stream",
     "text": [
      "13 [[8.3045]]\n"
     ]
    },
    {
     "data": {
      "image/png": "[encoded data removed]",
      "text/plain": [
       "<Figure size 432x288 with 1 Axes>"
      ]
     },
     "metadata": {},
     "output_type": "display_data"
    }
   ],
   "source": [
    "imgs,gts = data_provider(1)\n",
    "pred = sess.run(x_out,\n",
    "                feed_dict={learning_rate:0.01,x_in:imgs,y_in:gts})\n",
    "                \n",
    "img,y = imgs[0,:,:,0],gts[0]\n",
    "plt.imshow(img,origin='lower')\n",
    "print(y,pred)"
   ]
  },
  {
   "cell_type": "code",
   "execution_count": null,
   "metadata": {},
   "outputs": [],
   "source": []
  },
  {
   "cell_type": "code",
   "execution_count": null,
   "metadata": {},
   "outputs": [],
   "source": []
  },
  {
   "cell_type": "code",
   "execution_count": 1,
   "metadata": {},
   "outputs": [
    {
     "name": "stderr",
     "output_type": "stream",
     "text": [
      "/home/gf/packages/anaconda3/lib/python3.6/site-packages/h5py/__init__.py:36: FutureWarning: Conversion of the second argument of issubdtype from `float` to `np.floating` is deprecated. In future, it will be treated as `np.float64 == np.dtype(float).type`.\n",
      "  from ._conv import register_converters as _register_converters\n"
     ]
    }
   ],
   "source": [
    "def add_marker(ax,mx,my,marker,n,markersize=70):\n",
    "    x = np.random.uniform(10,mx-10,n).astype(int)\n",
    "    y = np.random.uniform(10,my-10,n).astype(int)\n",
    "    ax.plot(x,y,ls='',marker=marker,\n",
    "            markersize=markersize,\n",
    "            markerfacecolor='gray',\n",
    "            markeredgecolor='gray')\n",
    "    return x,y\n",
    "\n",
    "def make_image(lx = 5,ly = 5,dpi = 40):\n",
    "    fig,ax = plt.subplots(1,1,figsize=(lx,ly))\n",
    "    num = np.random.randint(7)\n",
    "    x,y = add_marker(ax,dpi*lx,dpi*ly,'*',num)\n",
    "    add_marker(ax,dpi*lx,dpi*ly,'.',2)\n",
    "    ax.set_xlim(0,dpi*lx)\n",
    "    ax.set_ylim(0,dpi*ly)\n",
    "    plt.subplots_adjust(0,0,1,1)\n",
    "#     plt.savefig('./datasets/locator/'+str(i)+'.png',dpi=40)\n",
    "    buffer_ = sio()\n",
    "    plt.savefig(buffer_,format = \"png\",dpi=dpi)\n",
    "#     plt.savefig( buffer_, format = \"png\", bbox_inches = 'tight', pad_inches = 0 )\n",
    "    buffer_.seek(0)\n",
    "    image = PIL.Image.open( buffer_ )\n",
    "    image = np.asarray(image)\n",
    "    image = np.mean(image,axis=-1)\n",
    "    image = np.rot90(image.T,1)\n",
    "    \n",
    "    buffer_.close()\n",
    "    plt.close()\n",
    "    return image,[x,y]\n",
    "\n",
    "def data_provider(n):\n",
    "    imgs = []\n",
    "    truth = []\n",
    "    for _ in range(n):\n",
    "        image,gt = make_image()\n",
    "        imgs.append(image)\n",
    "        truth.append(gt)\n",
    "\n",
    "    imgs = np.array(imgs)\n",
    "    truth = np.array(truth)\n",
    "    return np.expand_dims(imgs,-1),truth"
   ]
  },
  {
   "cell_type": "code",
   "execution_count": 2,
   "metadata": {},
   "outputs": [
    {
     "name": "stdout",
     "output_type": "stream",
     "text": [
      "(5, 200, 200, 1) (5, 2)\n"
     ]
    },
    {
     "data": {
      "image/png": "[encoded data removed]",
      "text/plain": [
       "<Figure size 432x288 with 1 Axes>"
      ]
     },
     "metadata": {},
     "output_type": "display_data"
    }
   ],
   "source": [
    "i = np.random.randint(5)\n",
    "imgs,gts = data_provider(5)\n",
    "print(imgs.shape,gts.shape)\n",
    "img,[x,y] = imgs[i,:,:,0],gts[i]\n",
    "plt.imshow(img,origin='lower')\n",
    "plt.plot(x,y,'ro');"
   ]
  },
  {
   "cell_type": "code",
   "execution_count": 3,
   "metadata": {},
   "outputs": [],
   "source": [
    "# tf.reset_default_graph()\n",
    "\n",
    "initzer = tf.contrib.layers.xavier_initializer()\n",
    "\n",
    "# x = tf.layers.conv2d(x_in,filters=12,\n",
    "#                     kernel_size=5,\n",
    "#                     padding='SAME',\n",
    "#                     kernel_initializer=initzer,\n",
    "#                     kernel_regularizer=tf.contrib.layers.l2_regularizer(scale=0.05),\n",
    "#                     bias_initializer=tf.constant_initializer(0.1),\n",
    "#                     name='conv_1')\n",
    "# x = tf.layers.batch_normalization(x,name='norm_1')\n",
    "# x = tf.nn.relu(x,name='act_1')\n",
    "\n",
    "\n",
    "# model = ng.Model(data_provider,restore=False,model_add='./model',arch=architecture)\n",
    "# print('# of variables:',model.n_variables)\n",
    "\n",
    "def covd2(x,filters,name):\n",
    "    x = tf.layers.conv2d(x,filters=filters,\n",
    "                    kernel_size=5,\n",
    "                    padding='SAME',\n",
    "                    kernel_initializer=initzer,\n",
    "                    kernel_regularizer=tf.contrib.layers.l2_regularizer(scale=0.05),\n",
    "                    bias_initializer=tf.constant_initializer(0.1),\n",
    "                    name='conv_'+name)\n",
    "    x = tf.layers.batch_normalization(x,name='norm_'+name)\n",
    "    x = tf.nn.relu(x,name='act_'+name)\n",
    "    return x"
   ]
  },
  {
   "cell_type": "code",
   "execution_count": 13,
   "metadata": {},
   "outputs": [
    {
     "name": "stderr",
     "output_type": "stream",
     "text": [
      "/home/gf/packages/anaconda3/lib/python3.6/site-packages/tensorflow/python/client/session.py:1714: UserWarning: An interactive session is already active. This can cause out-of-memory errors in some cases. You must explicitly call `InteractiveSession.close()` to release resources held by the other session(s).\n",
      "  warnings.warn('An interactive session is already active. This can '\n"
     ]
    },
    {
     "name": "stdout",
     "output_type": "stream",
     "text": [
      "Tensor(\"Placeholder:0\", shape=(?, 200, 200, 1), dtype=float32)\n",
      "Tensor(\"Relu:0\", shape=(?, 98, 98, 16), dtype=float32)\n",
      "Tensor(\"max_pooling2d/MaxPool:0\", shape=(?, 48, 48, 16), dtype=float32)\n",
      "Tensor(\"Relu_1:0\", shape=(?, 22, 22, 4), dtype=float32)\n",
      "Tensor(\"max_pooling2d_1/MaxPool:0\", shape=(?, 10, 10, 4), dtype=float32)\n",
      "Tensor(\"flatten/Reshape:0\", shape=(?, 400), dtype=float32)\n",
      "Tensor(\"Relu_2:0\", shape=(?, 200), dtype=float32)\n",
      "Tensor(\"Relu_3:0\", shape=(?, 10), dtype=float32)\n",
      "Tensor(\"dense_2/BiasAdd:0\", shape=(?, 1), dtype=float32)\n"
     ]
    }
   ],
   "source": [
    "tf.reset_default_graph()\n",
    "\n",
    "sess = tf.InteractiveSession()\n",
    "x_in = tf.placeholder(tf.float32,(None,200,200,1))\n",
    "y_in = tf.placeholder(tf.float32,(None))\n",
    "learning_rate = tf.placeholder(tf.float32)\n",
    "\n",
    "print(x_in)\n",
    "x = tf.layers.conv2d(x_in,filters=16,kernel_size=(5,5),strides=(2,2))\n",
    "x = tf.layers.batch_normalization(x)\n",
    "x = tf.nn.relu(x)\n",
    "print(x)\n",
    "x = tf.layers.max_pooling2d(x,pool_size=4,strides=(2,2))\n",
    "print(x)\n",
    "x = tf.layers.conv2d(x,filters=4,kernel_size=(5,5),strides=(2,2))\n",
    "x = tf.layers.batch_normalization(x)\n",
    "x = tf.nn.relu(x)\n",
    "print(x)\n",
    "x = tf.layers.max_pooling2d(x,pool_size=4,strides=(2,2))\n",
    "print(x)\n",
    "x = tf.layers.flatten(x)\n",
    "print(x)\n",
    "x = tf.layers.dense(x,200)\n",
    "x = tf.nn.relu(x)\n",
    "print(x)\n",
    "x = tf.layers.dropout(x,rate=0.0,training=1)\n",
    "x = tf.layers.dense(x,10)\n",
    "x = tf.nn.relu(x)\n",
    "print(x)\n",
    "x_out = tf.layers.dense(x,1)\n",
    "print(x_out)\n",
    "\n",
    "loss = tf.reduce_mean(tf.pow(x_out-y_in,2))\n",
    "\n",
    "optimizer = tf.train.RMSPropOptimizer(learning_rate).minimize(loss)\n",
    "# in_shape = tf.shape(x_in)\n",
    "# grd = tf.range(in_shape[1], in_shape[2])\n",
    "# GX, GY = tf.meshgrid(grd,grd)\n",
    "# print(GX, GY)\n",
    "# x = covd2(x_in,12,'1')\n",
    "# print(x)\n",
    "# x = covd2(x,12,'2')\n",
    "# print(x)\n",
    "# x = covd2(x,1,'3')\n",
    "# print(x)\n",
    "\n",
    "saver = tf.train.Saver()\n",
    "\n",
    "init = tf.global_variables_initializer()\n",
    "sess.run(init)\n",
    "\n",
    "# saver.restore(sess, \"./model/model.ckpt\")\n"
   ]
  },
  {
   "cell_type": "code",
   "execution_count": 14,
   "metadata": {},
   "outputs": [
    {
     "name": "stdout",
     "output_type": "stream",
     "text": [
      "1634.5211\n",
      "5.1758475\n",
      "13.015453\n",
      "5.2522874\n",
      "4.2463245\n",
      "3.7587688\n"
     ]
    }
   ],
   "source": [
    "for iii in range(300):\n",
    "    imgs,gts = data_provider(3)\n",
    "    yy = [len(i[0]) for i in gts]\n",
    "    _,cc = sess.run([optimizer,loss],feed_dict={learning_rate:0.001,x_in:imgs,y_in:yy})\n",
    "    if iii%50==0:\n",
    "        print(cc)"
   ]
  },
  {
   "cell_type": "code",
   "execution_count": 10,
   "metadata": {},
   "outputs": [
    {
     "data": {
      "text/plain": [
       "'./model/model.ckpt'"
      ]
     },
     "execution_count": 10,
     "metadata": {},
     "output_type": "execute_result"
    }
   ],
   "source": [
    "saver.save(sess, \"./model/model.ckpt\")"
   ]
  },
  {
   "cell_type": "code",
   "execution_count": 12,
   "metadata": {},
   "outputs": [
    {
     "name": "stdout",
     "output_type": "stream",
     "text": [
      "[[2.9848566]]\n"
     ]
    },
    {
     "data": {
      "image/png": "[encoded data removed]",
      "text/plain": [
       "<Figure size 432x288 with 1 Axes>"
      ]
     },
     "metadata": {},
     "output_type": "display_data"
    }
   ],
   "source": [
    "imgs,gts = data_provider(1)\n",
    "yy = [len(i[0]) for i in gts]\n",
    "pred = sess.run(x_out,\n",
    "                feed_dict={learning_rate:0.01,x_in:imgs,y_in:yy})\n",
    "                \n",
    "img,[x,y] = imgs[0,:,:,0],gts[0]\n",
    "plt.imshow(img,origin='lower')\n",
    "plt.plot(x,y,'ro');\n",
    "print(pred)"
   ]
  },
  {
   "cell_type": "code",
   "execution_count": null,
   "metadata": {},
   "outputs": [],
   "source": []
  },
  {
   "cell_type": "code",
   "execution_count": null,
   "metadata": {},
   "outputs": [],
   "source": []
  }
 ],
 "metadata": {
  "kernelspec": {
   "display_name": "Python 3",
   "language": "python",
   "name": "python3"
  },
  "language_info": {
   "codemirror_mode": {
    "name": "ipython",
    "version": 3
   },
   "file_extension": ".py",
   "mimetype": "text/x-python",
   "name": "python",
   "nbconvert_exporter": "python",
   "pygments_lexer": "ipython3",
   "version": "3.6.5"
  }
 },
 "nbformat": 4,
 "nbformat_minor": 2
}
