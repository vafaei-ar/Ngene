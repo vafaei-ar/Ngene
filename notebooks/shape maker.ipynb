{
 "cells": [
  {
   "cell_type": "code",
   "execution_count": 26,
   "metadata": {},
   "outputs": [],
   "source": [
    "%matplotlib inline\n",
    "\n",
    "import PIL\n",
    "import numpy as np\n",
    "import pylab as plt\n",
    "from os import mkdir\n",
    "from imageio import imread\n",
    "from io import BytesIO as sio\n",
    "\n",
    "markers = {'.': 'point', ',': 'pixel', 'o': 'circle', 'v': 'triangle_down', '^': 'triangle_up',\n",
    "           '<': 'triangle_left', '>': 'triangle_right', '1': 'tri_down', '2': 'tri_up', '3': 'tri_left',\n",
    "           '4': 'tri_right', '8': 'octagon', 's': 'square', 'p': 'pentagon', '*': 'star', 'h': 'hexagon1',\n",
    "           'H': 'hexagon2', '+': 'plus', 'x': 'x', 'D': 'diamond', 'd': 'thin_diamond', '|': 'vline',\n",
    "           '_': 'hline', 'P': 'plus_filled', 'X': 'x_filled', 0: 'tickleft', 1: 'tickright', 2: 'tickup',\n",
    "           3: 'tickdown', 4: 'caretleft', 5: 'caretright', 6: 'caretup', 7: 'caretdown',\n",
    "           8: 'caretleftbase', 9: 'caretrightbase', 10: 'caretupbase', 11: 'caretdownbase',\n",
    "           'None': 'nothing', None: 'nothing', ' ': 'nothing', '': 'nothing'}\n",
    "\n",
    "def add_marker(ax,mx,my,marker,n,markersize=70,fill=1):\n",
    "    if fill:\n",
    "        markerfacecolor = 'gray'\n",
    "    else:\n",
    "        markerfacecolor = 'none'\n",
    "    x = np.random.uniform(10,mx-10,n).astype(int)\n",
    "    y = np.random.uniform(10,my-10,n).astype(int)\n",
    "    ax.plot(x,y,ls='',marker=marker,\n",
    "            markersize=markersize,\n",
    "            markerfacecolor=markerfacecolor,\n",
    "            markeredgecolor='gray')\n",
    "    return x,y\n",
    "\n",
    "def make_image(lx = 5,ly = 5,dpi = 40):\n",
    "    fig,ax = plt.subplots(1,1,figsize=(lx,ly))\n",
    "    num = np.random.randint(7)\n",
    "    x,y = add_marker(ax,dpi*lx,dpi*ly,'^',num)\n",
    "    add_marker(ax,dpi*lx,dpi*ly,'.',2)\n",
    "    ax.set_xlim(0,dpi*lx)\n",
    "    ax.set_ylim(0,dpi*ly)\n",
    "    plt.subplots_adjust(0,0,1,1)\n",
    "#     plt.savefig('./datasets/locator/'+str(i)+'.png',dpi=40)\n",
    "    buffer_ = sio()\n",
    "    plt.savefig(buffer_,format = \"png\",dpi=dpi)\n",
    "#     plt.savefig( buffer_, format = \"png\", bbox_inches = 'tight', pad_inches = 0 )\n",
    "    buffer_.seek(0)\n",
    "    image = PIL.Image.open( buffer_ )\n",
    "    image = np.asarray(image)\n",
    "    image = np.mean(image,axis=-1)\n",
    "    image = np.rot90(image.T,1)\n",
    "    \n",
    "    buffer_.close()\n",
    "    plt.close()\n",
    "    return image,[x,y]\n",
    "\n",
    "def data_provider(n):\n",
    "    imgs = []\n",
    "    truth = []\n",
    "    for _ in range(n):\n",
    "        image,gt = make_image()\n",
    "        imgs.append(image)\n",
    "        truth.append(gt)\n",
    "\n",
    "    imgs = np.array(imgs)\n",
    "    truth = np.array(truth)\n",
    "    return np.expand_dims(imgs,-1),truth"
   ]
  },
  {
   "cell_type": "code",
   "execution_count": 27,
   "metadata": {},
   "outputs": [
    {
     "name": "stdout",
     "output_type": "stream",
     "text": [
      "(3, 200, 200, 1) (3, 2)\n"
     ]
    },
    {
     "data": {
      "image/png": "[encoded data removed]",
      "text/plain": [
       "<Figure size 432x288 with 1 Axes>"
      ]
     },
     "metadata": {},
     "output_type": "display_data"
    }
   ],
   "source": [
    "i = np.random.randint(3)\n",
    "imgs,gts = data_provider(3)\n",
    "print(imgs.shape,gts.shape)\n",
    "img,[x,y] = imgs[i,:,:,0],gts[i]\n",
    "plt.imshow(img,origin='lower',cmap='gray')\n",
    "plt.plot(x,y,'ro');"
   ]
  },
  {
   "cell_type": "code",
   "execution_count": null,
   "metadata": {},
   "outputs": [],
   "source": []
  },
  {
   "cell_type": "code",
   "execution_count": null,
   "metadata": {},
   "outputs": [],
   "source": []
  },
  {
   "cell_type": "code",
   "execution_count": null,
   "metadata": {},
   "outputs": [],
   "source": []
  }
 ],
 "metadata": {
  "kernelspec": {
   "display_name": "Python 3",
   "language": "python",
   "name": "python3"
  },
  "language_info": {
   "codemirror_mode": {
    "name": "ipython",
    "version": 3
   },
   "file_extension": ".py",
   "mimetype": "text/x-python",
   "name": "python",
   "nbconvert_exporter": "python",
   "pygments_lexer": "ipython3",
   "version": "3.6.5"
  }
 },
 "nbformat": 4,
 "nbformat_minor": 2
}
